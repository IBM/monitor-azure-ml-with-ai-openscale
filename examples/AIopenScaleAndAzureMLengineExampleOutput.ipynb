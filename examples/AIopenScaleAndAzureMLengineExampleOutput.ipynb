{
 "cells": [
  {
   "cell_type": "markdown",
   "metadata": {},
   "source": [
    "# Working with Azure Machine Learning Studio engine"
   ]
  },
  {
   "cell_type": "markdown",
   "metadata": {},
   "source": [
    "This notebook shows how to log the payload for a model deployed on Microsoft Azure serving engine using AI OpenScale python sdk."
   ]
  },
  {
   "cell_type": "markdown",
   "metadata": {},
   "source": [
    "Contents\n",
    "- [1. Setup](#setup)\n",
    "- [2. Binding machine learning engine](#binding)\n",
    "- [3. Subscriptions](#subscription)\n",
    "- [4. Scoring and payload logging](#scoring)\n",
    "- [5. Feedback logging](#feedback)\n",
    "- [6. Data Mart](#datamart)"
   ]
  },
  {
   "cell_type": "markdown",
   "metadata": {},
   "source": [
    "<a id=\"setup\"></a>\n",
    "## 1. Setup"
   ]
  },
  {
   "cell_type": "markdown",
   "metadata": {},
   "source": [
    "### 1.0 Sample model creation using [Azure Machine Learning Studio](https://studio.azureml.net)"
   ]
  },
  {
   "cell_type": "markdown",
   "metadata": {},
   "source": [
    "- Download training data set from [here](https://github.com/pmservice/wml-sample-models/raw/master/spark/product-line-prediction/data/GoSales_Tx.csv)\n",
    "- [Create an experiment in Azure ML Studio](https://docs.microsoft.com/en-us/azure/machine-learning/studio/create-experiment) using the diagram below. (You can search for each module in the palette by name)\n",
    "- When you get to the `Train Model` module, select the `Product Line` column as the label.\n",
    "- Run the experiment to train the model.\n",
    "- [Create (deploy) web service](https://docs.microsoft.com/en-us/azure/machine-learning/studio/publish-a-machine-learning-web-service) (Choose the `new` NOT `classic`)"
   ]
  },
  {
   "cell_type": "markdown",
   "metadata": {},
   "source": [
    "<img src=\"https://github.com/pmservice/ai-openscale-tutorials/raw/master/notebooks/images/azure_product_line_model.png\" align=\"left\" alt=\"experiment\">"
   ]
  },
  {
   "cell_type": "markdown",
   "metadata": {},
   "source": [
    "**NOTE:** Classic web services are not supported."
   ]
  },
  {
   "cell_type": "markdown",
   "metadata": {},
   "source": [
    "### 1.1 Installation and authentication"
   ]
  },
  {
   "cell_type": "code",
   "execution_count": 46,
   "metadata": {},
   "outputs": [
    {
     "name": "stdout",
     "output_type": "stream",
     "text": [
      "Successfully installed ibm-ai-openscale-1.0.456\n"
     ]
    }
   ],
   "source": [
    "!pip install --upgrade ibm-ai-openscale --no-cache | tail -n 1"
   ]
  },
  {
   "cell_type": "markdown",
   "metadata": {},
   "source": [
    "Import and initiate."
   ]
  },
  {
   "cell_type": "code",
   "execution_count": 47,
   "metadata": {},
   "outputs": [],
   "source": [
    "from ibm_ai_openscale import APIClient\n",
    "from ibm_ai_openscale.supporting_classes import PayloadRecord\n",
    "from ibm_ai_openscale.supporting_classes.enums import InputDataType, ProblemType\n",
    "from ibm_ai_openscale.engines import *\n",
    "from ibm_ai_openscale.utils import *"
   ]
  },
  {
   "cell_type": "markdown",
   "metadata": {},
   "source": [
    "#### ACTION: Get AI OpenScale `instance_guid` and `apikey`\n",
    "\n",
    "[Install IBM Cloud (bluemix) console](https://console.bluemix.net/docs/cli/reference/ibmcloud/download_cli.html#install_use)\n",
    "\n",
    "Use the IBM Cloud CLI to get an api key:\n",
    "```bash\n",
    "ibmcloud login --sso\n",
    "ibmcloud iam api-key-create 'my_key'\n",
    "```\n",
    "\n",
    "Get your AI OpenScale instance GUID:\n",
    "> if your resource group is different than `default` switch to the resource group containing AI OpenScale instance\n",
    "\n",
    "```bash\n",
    "ibmcloud target -g <myResourceGroup>\n",
    "```\n",
    "\n",
    "Get details of the instance:\n",
    "```bash\n",
    "ibmcloud resource service-instance `AI-OpenScale-instance_name`\n",
    "```"
   ]
  },
  {
   "cell_type": "markdown",
   "metadata": {},
   "source": [
    "#### Let's define some constants required to set up data mart:\n",
    "\n",
    "- AIOS_CREDENTIALS\n",
    "- POSTGRES_CREDENTIALS\n",
    "- SCHEMA_NAME"
   ]
  },
  {
   "cell_type": "code",
   "execution_count": 48,
   "metadata": {},
   "outputs": [],
   "source": [
    "AIOS_CREDENTIALS = {\n",
    "  \"url\": \"https://api.aiopenscale.cloud.ibm.com\",\n",
    "  \"instance_guid\": \"****\",\n",
    "  \"apikey\": \"****\"\n",
    "}"
   ]
  },
  {
   "cell_type": "code",
   "execution_count": 49,
   "metadata": {},
   "outputs": [],
   "source": [
    "POSTGRES_CREDENTIALS = {\n",
    "    \"db_type\": \"postgresql\",\n",
    "    \"uri_cli_1\": \"xxx\",\n",
    "    \"maps\": [],\n",
    "    \"instance_administration_api\": {\n",
    "        \"instance_id\": \"xxx\",\n",
    "        \"root\": \"xxx\",\n",
    "        \"deployment_id\": \"xxx\"\n",
    "    },\n",
    "    \"name\": \"xxx\",\n",
    "    \"uri_cli\": \"xxx\",\n",
    "    \"uri_direct_1\": \"xxx\",\n",
    "    \"ca_certificate_base64\": \"xxx\",\n",
    "    \"deployment_id\": \"xxx\",\n",
    "    \"uri\": \"xxx\"\n",
    "}\n"
   ]
  },
  {
   "cell_type": "code",
   "execution_count": 50,
   "metadata": {},
   "outputs": [],
   "source": [
    "SCHEMA_NAME = 'data_mart_for_azure'"
   ]
  },
  {
   "cell_type": "markdown",
   "metadata": {},
   "source": [
    "Create schema for data mart."
   ]
  },
  {
   "cell_type": "code",
   "execution_count": 51,
   "metadata": {},
   "outputs": [],
   "source": [
    "create_postgres_schema(postgres_credentials=POSTGRES_CREDENTIALS, schema_name=SCHEMA_NAME)"
   ]
  },
  {
   "cell_type": "code",
   "execution_count": 52,
   "metadata": {},
   "outputs": [],
   "source": [
    "client = APIClient(AIOS_CREDENTIALS)"
   ]
  },
  {
   "cell_type": "code",
   "execution_count": 53,
   "metadata": {},
   "outputs": [
    {
     "data": {
      "text/plain": [
       "'1.0.429'"
      ]
     },
     "execution_count": 53,
     "metadata": {},
     "output_type": "execute_result"
    }
   ],
   "source": [
    "client.version"
   ]
  },
  {
   "cell_type": "markdown",
   "metadata": {},
   "source": [
    "### 1.2 DataMart setup"
   ]
  },
  {
   "cell_type": "code",
   "execution_count": 55,
   "metadata": {},
   "outputs": [],
   "source": [
    "client.data_mart.setup(db_credentials=POSTGRES_CREDENTIALS, schema=SCHEMA_NAME)"
   ]
  },
  {
   "cell_type": "code",
   "execution_count": 56,
   "metadata": {},
   "outputs": [],
   "source": [
    "data_mart_details = client.data_mart.get_details()"
   ]
  },
  {
   "cell_type": "markdown",
   "metadata": {},
   "source": [
    "<a id=\"binding\"></a>\n",
    "## 2. Bind machine learning engines"
   ]
  },
  {
   "cell_type": "markdown",
   "metadata": {},
   "source": [
    "### 2.1 Bind  `Azure` machine learning engine\n",
    "\n",
    "Provide credentials using following fields:\n",
    "- `client_id`\n",
    "- `client_secret`\n",
    "- `subscription_id`\n",
    "- `tenant`"
   ]
  },
  {
   "cell_type": "code",
   "execution_count": 57,
   "metadata": {},
   "outputs": [],
   "source": [
    "AZURE_ENGINE_CREDENTIALS = {\n",
    "    \"client_id\": \"***\",\n",
    "    \"client_secret\": \"***\",\n",
    "    \"subscription_id\": \"***\",\n",
    "    \"tenant\": \"***\"\n",
    "}"
   ]
  },
  {
   "cell_type": "code",
   "execution_count": 58,
   "metadata": {},
   "outputs": [],
   "source": [
    "binding_uid = client.data_mart.bindings.add('My Azure ML Studio engine', AzureMachineLearningInstance(AZURE_ENGINE_CREDENTIALS))"
   ]
  },
  {
   "cell_type": "code",
   "execution_count": 59,
   "metadata": {},
   "outputs": [],
   "source": [
    "bindings_details = client.data_mart.bindings.get_details()"
   ]
  },
  {
   "cell_type": "code",
   "execution_count": 60,
   "metadata": {},
   "outputs": [
    {
     "data": {
      "text/html": [
       "<HTML>\n",
       "        <body>\n",
       "            <h3>Service bindings</h3>\n",
       "            <table style='border: 1px solid #dddddd; font-family: Courier'>\n",
       "                <th style='border: 1px solid #dddddd'>uid</th><th style='border: 1px solid #dddddd'>name</th><th style='border: 1px solid #dddddd'>service_type</th><th style='border: 1px solid #dddddd'>created</th>\n",
       "                <tr><td style='border: 1px solid #dddddd'>149502ff-65b3-45c9-a145-a7b2ac25ba32</td><td style='border: 1px solid #dddddd'>My Azure ML Studio engine</td><td style='border: 1px solid #dddddd'>azure_machine_learning</td><td style='border: 1px solid #dddddd'>2019-01-29T21:54:44.760Z</td></tr>\n",
       "            </table>\n",
       "        </body>\n",
       "        </HTML>"
      ],
      "text/plain": [
       "<IPython.core.display.HTML object>"
      ]
     },
     "metadata": {},
     "output_type": "display_data"
    }
   ],
   "source": [
    "client.data_mart.bindings.list()"
   ]
  },
  {
   "cell_type": "markdown",
   "metadata": {},
   "source": [
    "<a id=\"subsciption\"></a>\n",
    "## 3. Subscriptions"
   ]
  },
  {
   "cell_type": "markdown",
   "metadata": {},
   "source": [
    "### 3.1 Add subscriptions"
   ]
  },
  {
   "cell_type": "markdown",
   "metadata": {},
   "source": [
    "List available deployments.\n",
    "\n",
    "**Note:** Depending on the number of assets it may take some time."
   ]
  },
  {
   "cell_type": "code",
   "execution_count": 61,
   "metadata": {},
   "outputs": [
    {
     "data": {
      "text/html": [
       "<HTML>\n",
       "        <body>\n",
       "            <h3>Available assets</h3>\n",
       "            <table style='border: 1px solid #dddddd; font-family: Courier'>\n",
       "                <th style='border: 1px solid #dddddd'>source_uid</th><th style='border: 1px solid #dddddd'>name</th><th style='border: 1px solid #dddddd'>created</th><th style='border: 1px solid #dddddd'>type</th><th style='border: 1px solid #dddddd'>frameworks</th><th style='border: 1px solid #dddddd'>binding_uid</th><th style='border: 1px solid #dddddd'>is_subscribed</th>\n",
       "                <tr><td style='border: 1px solid #dddddd'>986fd3e779b52d0e23a2bde5b6da996c</td><td style='border: 1px solid #dddddd'>ScottdaAzureML12.2019.1.29.21.29.50.528</td><td style='border: 1px solid #dddddd'>2019-01-29T21:30:38.2982264Z</td><td style='border: 1px solid #dddddd'>model</td><td style='border: 1px solid #dddddd'></td><td style='border: 1px solid #dddddd'>149502ff-65b3-45c9-a145-a7b2ac25ba32</td><td style='border: 1px solid #dddddd'>False</td></tr><tr><td style='border: 1px solid #dddddd'>0c32322ed02bb81b286b16ef5de94466</td><td style='border: 1px solid #dddddd'>GermanCreditRiskFastpath.2019.1.24.19.50.12.591</td><td style='border: 1px solid #dddddd'>2019-01-24T19:52:49.7309075Z</td><td style='border: 1px solid #dddddd'>model</td><td style='border: 1px solid #dddddd'></td><td style='border: 1px solid #dddddd'>149502ff-65b3-45c9-a145-a7b2ac25ba32</td><td style='border: 1px solid #dddddd'>False</td></tr><tr><td style='border: 1px solid #dddddd'>9b6abb9a934cecf33a465f07d73aabe6</td><td style='border: 1px solid #dddddd'>MultiClass-ProductLineTestAutomationNC</td><td style='border: 1px solid #dddddd'>2019-01-21T06:50:06.8313304Z</td><td style='border: 1px solid #dddddd'>model</td><td style='border: 1px solid #dddddd'></td><td style='border: 1px solid #dddddd'>149502ff-65b3-45c9-a145-a7b2ac25ba32</td><td style='border: 1px solid #dddddd'>False</td></tr><tr><td style='border: 1px solid #dddddd'>33ee79fb8e64881e9182dd4fd3475586</td><td style='border: 1px solid #dddddd'>ClaimInsuranceRegressionTestAutomationCat</td><td style='border: 1px solid #dddddd'>2019-01-21T06:46:49.6811946Z</td><td style='border: 1px solid #dddddd'>model</td><td style='border: 1px solid #dddddd'></td><td style='border: 1px solid #dddddd'>149502ff-65b3-45c9-a145-a7b2ac25ba32</td><td style='border: 1px solid #dddddd'>False</td></tr><tr><td style='border: 1px solid #dddddd'>97521fdfaf0830239fadfbac0d5d0091</td><td style='border: 1px solid #dddddd'>ClaimInsuranceRegressionTestAutomationNC</td><td style='border: 1px solid #dddddd'>2019-01-21T06:41:04.8380274Z</td><td style='border: 1px solid #dddddd'>model</td><td style='border: 1px solid #dddddd'></td><td style='border: 1px solid #dddddd'>149502ff-65b3-45c9-a145-a7b2ac25ba32</td><td style='border: 1px solid #dddddd'>False</td></tr><tr><td style='border: 1px solid #dddddd'>a7474537b6166d3cc01481b647423769</td><td style='border: 1px solid #dddddd'>Germancreditrisk.2019.1.17.14.9.9.994</td><td style='border: 1px solid #dddddd'>2019-01-17T14:09:46.5811815Z</td><td style='border: 1px solid #dddddd'>model</td><td style='border: 1px solid #dddddd'></td><td style='border: 1px solid #dddddd'>149502ff-65b3-45c9-a145-a7b2ac25ba32</td><td style='border: 1px solid #dddddd'>False</td></tr><tr><td style='border: 1px solid #dddddd'>085460ef94636166aea5800e9ea26168</td><td style='border: 1px solid #dddddd'>GermanCreditRisk.2019.1.9.10.41.58.611</td><td style='border: 1px solid #dddddd'>2019-01-09T10:42:59.7933412Z</td><td style='border: 1px solid #dddddd'>model</td><td style='border: 1px solid #dddddd'></td><td style='border: 1px solid #dddddd'>149502ff-65b3-45c9-a145-a7b2ac25ba32</td><td style='border: 1px solid #dddddd'>False</td></tr><tr><td style='border: 1px solid #dddddd'>77919091f862ab6a128edc60ccafc064</td><td style='border: 1px solid #dddddd'>ASHDrugModelPred.2019.1.8.9.48.15.590</td><td style='border: 1px solid #dddddd'>2019-01-08T09:48:33.9184573Z</td><td style='border: 1px solid #dddddd'>model</td><td style='border: 1px solid #dddddd'></td><td style='border: 1px solid #dddddd'>149502ff-65b3-45c9-a145-a7b2ac25ba32</td><td style='border: 1px solid #dddddd'>False</td></tr><tr><td style='border: 1px solid #dddddd'>920beeba5513b8059799900ecfcbdeca</td><td style='border: 1px solid #dddddd'>MultiClass-ProductLineTestAutomation</td><td style='border: 1px solid #dddddd'>2019-01-05T05:55:41.6061263Z</td><td style='border: 1px solid #dddddd'>model</td><td style='border: 1px solid #dddddd'></td><td style='border: 1px solid #dddddd'>149502ff-65b3-45c9-a145-a7b2ac25ba32</td><td style='border: 1px solid #dddddd'>False</td></tr><tr><td style='border: 1px solid #dddddd'>56f60f0e2f997ed58d851e5a063eb554</td><td style='border: 1px solid #dddddd'>ClaimInsuranceRegressionTestAutomation</td><td style='border: 1px solid #dddddd'>2019-01-04T10:43:02.5032489Z</td><td style='border: 1px solid #dddddd'>model</td><td style='border: 1px solid #dddddd'></td><td style='border: 1px solid #dddddd'>149502ff-65b3-45c9-a145-a7b2ac25ba32</td><td style='border: 1px solid #dddddd'>False</td></tr><tr><td style='border: 1px solid #dddddd'>e5a8d57a6002c42fac5524948683295d</td><td style='border: 1px solid #dddddd'>InsuranceClaimBinaryTestAutomation</td><td style='border: 1px solid #dddddd'>2019-01-04T05:52:25.0479481Z</td><td style='border: 1px solid #dddddd'>model</td><td style='border: 1px solid #dddddd'></td><td style='border: 1px solid #dddddd'>149502ff-65b3-45c9-a145-a7b2ac25ba32</td><td style='border: 1px solid #dddddd'>False</td></tr><tr><td style='border: 1px solid #dddddd'>dc0a9a92cfb377234b6266dd223ae4d0</td><td style='border: 1px solid #dddddd'>frauddetectionpr.2019.1.2.7.59.28.838</td><td style='border: 1px solid #dddddd'>2019-01-02T08:00:03.8203084Z</td><td style='border: 1px solid #dddddd'>model</td><td style='border: 1px solid #dddddd'></td><td style='border: 1px solid #dddddd'>149502ff-65b3-45c9-a145-a7b2ac25ba32</td><td style='border: 1px solid #dddddd'>False</td></tr><tr><td style='border: 1px solid #dddddd'>bc108cd66382ae734b60ae853c5242a1</td><td style='border: 1px solid #dddddd'>DPJC-Titanic-Retraining.2018.12.21.9.21.43.439</td><td style='border: 1px solid #dddddd'>2018-12-21T09:22:14.1837647Z</td><td style='border: 1px solid #dddddd'>model</td><td style='border: 1px solid #dddddd'></td><td style='border: 1px solid #dddddd'>149502ff-65b3-45c9-a145-a7b2ac25ba32</td><td style='border: 1px solid #dddddd'>False</td></tr><tr><td style='border: 1px solid #dddddd'>12df12e7f50e1114978bcd54471381d0</td><td style='border: 1px solid #dddddd'>DPJC-Titanic.2018.12.19.10.23.28.594</td><td style='border: 1px solid #dddddd'>2018-12-19T10:24:03.9383824Z</td><td style='border: 1px solid #dddddd'>model</td><td style='border: 1px solid #dddddd'></td><td style='border: 1px solid #dddddd'>149502ff-65b3-45c9-a145-a7b2ac25ba32</td><td style='border: 1px solid #dddddd'>False</td></tr><tr><td style='border: 1px solid #dddddd'>08ba1404374d7635f8eb8638c105f7eb</td><td style='border: 1px solid #dddddd'>AzureNew-Yuki-ProductLine-LinearRegression(Age)-20181213</td><td style='border: 1px solid #dddddd'>2018-12-13T09:23:36.1493809Z</td><td style='border: 1px solid #dddddd'>model</td><td style='border: 1px solid #dddddd'></td><td style='border: 1px solid #dddddd'>149502ff-65b3-45c9-a145-a7b2ac25ba32</td><td style='border: 1px solid #dddddd'>False</td></tr><tr><td style='border: 1px solid #dddddd'>efa7c594c5a0deac76bc6866ffc18dc7</td><td style='border: 1px solid #dddddd'>ClaimInsuranceRegression.2018.12.12.5.12.15.584</td><td style='border: 1px solid #dddddd'>2018-12-12T05:13:51.021202Z</td><td style='border: 1px solid #dddddd'>model</td><td style='border: 1px solid #dddddd'></td><td style='border: 1px solid #dddddd'>149502ff-65b3-45c9-a145-a7b2ac25ba32</td><td style='border: 1px solid #dddddd'>False</td></tr><tr><td style='border: 1px solid #dddddd'>2f1c3b2552bb9d96a134ef671c716059</td><td style='border: 1px solid #dddddd'>AzureNew-Yuki-ProductLine-LinearRegression-20181212</td><td style='border: 1px solid #dddddd'>2018-12-12T03:01:58.8467204Z</td><td style='border: 1px solid #dddddd'>model</td><td style='border: 1px solid #dddddd'></td><td style='border: 1px solid #dddddd'>149502ff-65b3-45c9-a145-a7b2ac25ba32</td><td style='border: 1px solid #dddddd'>False</td></tr><tr><td style='border: 1px solid #dddddd'>48c6ebc2fa6cfd359923e3fe59bdefcc</td><td style='border: 1px solid #dddddd'>AzureNew-Yuki-ProductLine-TwoClassLogisticRegression-20181212</td><td style='border: 1px solid #dddddd'>2018-12-12T02:59:33.7864639Z</td><td style='border: 1px solid #dddddd'>model</td><td style='border: 1px solid #dddddd'></td><td style='border: 1px solid #dddddd'>149502ff-65b3-45c9-a145-a7b2ac25ba32</td><td style='border: 1px solid #dddddd'>False</td></tr><tr><td style='border: 1px solid #dddddd'>f49e4115dbc90378d3c5cb4bbc27d2d8</td><td style='border: 1px solid #dddddd'>AzureNew-Yuki-ProductLine-MulticlassLogisticRegression-20181212</td><td style='border: 1px solid #dddddd'>2018-12-12T02:58:25.3151546Z</td><td style='border: 1px solid #dddddd'>model</td><td style='border: 1px solid #dddddd'></td><td style='border: 1px solid #dddddd'>149502ff-65b3-45c9-a145-a7b2ac25ba32</td><td style='border: 1px solid #dddddd'>False</td></tr><tr><td style='border: 1px solid #dddddd'>68efeda5fa73738bd028e1a290807367</td><td style='border: 1px solid #dddddd'>AzureNew-Yuki-DrugSelection-TwoClassLogisticRegression-20181212</td><td style='border: 1px solid #dddddd'>2018-12-12T02:49:34.4638846Z</td><td style='border: 1px solid #dddddd'>model</td><td style='border: 1px solid #dddddd'></td><td style='border: 1px solid #dddddd'>149502ff-65b3-45c9-a145-a7b2ac25ba32</td><td style='border: 1px solid #dddddd'>False</td></tr><tr><td style='border: 1px solid #dddddd'>5d14ed9ef7fa12fc86a96254e4d5061f</td><td style='border: 1px solid #dddddd'>AzureNew-Yuki-DrugSelection-LinearRegression-20181212</td><td style='border: 1px solid #dddddd'>2018-12-12T02:49:04.2670654Z</td><td style='border: 1px solid #dddddd'>model</td><td style='border: 1px solid #dddddd'></td><td style='border: 1px solid #dddddd'>149502ff-65b3-45c9-a145-a7b2ac25ba32</td><td style='border: 1px solid #dddddd'>False</td></tr><tr><td style='border: 1px solid #dddddd'>920b3ea9eb29a41e4fa93bfa5c96ac63</td><td style='border: 1px solid #dddddd'>AzureNew-Yuki-DrugSelection-MulticlassLogisticRegression-20181212</td><td style='border: 1px solid #dddddd'>2018-12-12T02:47:43.887378Z</td><td style='border: 1px solid #dddddd'>model</td><td style='border: 1px solid #dddddd'></td><td style='border: 1px solid #dddddd'>149502ff-65b3-45c9-a145-a7b2ac25ba32</td><td style='border: 1px solid #dddddd'>False</td></tr><tr><td style='border: 1px solid #dddddd'>3d07cae29805365453230e8beb638088</td><td style='border: 1px solid #dddddd'>MultiClassProductline</td><td style='border: 1px solid #dddddd'>2018-12-11T19:21:01.9441141Z</td><td style='border: 1px solid #dddddd'>model</td><td style='border: 1px solid #dddddd'></td><td style='border: 1px solid #dddddd'>149502ff-65b3-45c9-a145-a7b2ac25ba32</td><td style='border: 1px solid #dddddd'>False</td></tr><tr><td style='border: 1px solid #dddddd'>f39da17aaccec60ee9bd67207ae272f6</td><td style='border: 1px solid #dddddd'>neelimaregressio.2018.12.11.18.31.12.560</td><td style='border: 1px solid #dddddd'>2018-12-11T18:31:22.7972314Z</td><td style='border: 1px solid #dddddd'>model</td><td style='border: 1px solid #dddddd'></td><td style='border: 1px solid #dddddd'>149502ff-65b3-45c9-a145-a7b2ac25ba32</td><td style='border: 1px solid #dddddd'>False</td></tr><tr><td style='border: 1px solid #dddddd'>f7ba1231cc1a7cd200b996d8e514f758</td><td style='border: 1px solid #dddddd'>InsuranceClaimBinaryClass2</td><td style='border: 1px solid #dddddd'>2018-12-11T18:16:33.0425079Z</td><td style='border: 1px solid #dddddd'>model</td><td style='border: 1px solid #dddddd'></td><td style='border: 1px solid #dddddd'>149502ff-65b3-45c9-a145-a7b2ac25ba32</td><td style='border: 1px solid #dddddd'>False</td></tr><tr><td style='border: 1px solid #dddddd'>fbda2dcb71e4f339696c778e81d6a922</td><td style='border: 1px solid #dddddd'>neelimaincomepre.2018.12.11.17.52.18.494</td><td style='border: 1px solid #dddddd'>2018-12-11T17:52:31.6527702Z</td><td style='border: 1px solid #dddddd'>model</td><td style='border: 1px solid #dddddd'></td><td style='border: 1px solid #dddddd'>149502ff-65b3-45c9-a145-a7b2ac25ba32</td><td style='border: 1px solid #dddddd'>False</td></tr><tr><td style='border: 1px solid #dddddd'>a5951aaca215e4b2208a87495594ab2d</td><td style='border: 1px solid #dddddd'>CI-Regression-Dec11</td><td style='border: 1px solid #dddddd'>2018-12-11T16:39:39.0675549Z</td><td style='border: 1px solid #dddddd'>model</td><td style='border: 1px solid #dddddd'></td><td style='border: 1px solid #dddddd'>149502ff-65b3-45c9-a145-a7b2ac25ba32</td><td style='border: 1px solid #dddddd'>False</td></tr><tr><td style='border: 1px solid #dddddd'>90b4be34a6c987d29066076233d46b1a</td><td style='border: 1px solid #dddddd'>neelimaproductli.2018.12.11.16.20.34.185</td><td style='border: 1px solid #dddddd'>2018-12-11T16:20:51.0606809Z</td><td style='border: 1px solid #dddddd'>model</td><td style='border: 1px solid #dddddd'></td><td style='border: 1px solid #dddddd'>149502ff-65b3-45c9-a145-a7b2ac25ba32</td><td style='border: 1px solid #dddddd'>False</td></tr><tr><td style='border: 1px solid #dddddd'>5ef146c0ae1ed5143bdc7ea0e1df0a62</td><td style='border: 1px solid #dddddd'>ProductLineMultiClass-dec11</td><td style='border: 1px solid #dddddd'>2018-12-11T15:35:12.8468532Z</td><td style='border: 1px solid #dddddd'>model</td><td style='border: 1px solid #dddddd'></td><td style='border: 1px solid #dddddd'>149502ff-65b3-45c9-a145-a7b2ac25ba32</td><td style='border: 1px solid #dddddd'>False</td></tr><tr><td style='border: 1px solid #dddddd'>d8dd110f1b75f27b7854928b1d705932</td><td style='border: 1px solid #dddddd'>JimExperimentDoc01</td><td style='border: 1px solid #dddddd'>2018-12-11T14:44:22.4454173Z</td><td style='border: 1px solid #dddddd'>model</td><td style='border: 1px solid #dddddd'></td><td style='border: 1px solid #dddddd'>149502ff-65b3-45c9-a145-a7b2ac25ba32</td><td style='border: 1px solid #dddddd'>False</td></tr><tr><td style='border: 1px solid #dddddd'>4fe40f7168e087c27998ffd5fec2ed8c</td><td style='border: 1px solid #dddddd'>productlineregre.2018.12.10.6.56.13.808</td><td style='border: 1px solid #dddddd'>2018-12-10T06:56:24.9336379Z</td><td style='border: 1px solid #dddddd'>model</td><td style='border: 1px solid #dddddd'></td><td style='border: 1px solid #dddddd'>149502ff-65b3-45c9-a145-a7b2ac25ba32</td><td style='border: 1px solid #dddddd'>False</td></tr><tr><td style='border: 1px solid #dddddd'>bd7f7335d9283525ce4d5d4d10d4f481</td><td style='border: 1px solid #dddddd'>mnistimage.2018.12.7.5.46.5.751</td><td style='border: 1px solid #dddddd'>2018-12-07T05:46:25.8962975Z</td><td style='border: 1px solid #dddddd'>model</td><td style='border: 1px solid #dddddd'></td><td style='border: 1px solid #dddddd'>149502ff-65b3-45c9-a145-a7b2ac25ba32</td><td style='border: 1px solid #dddddd'>False</td></tr><tr><td style='border: 1px solid #dddddd'>454d8ded446f62842197e5b0ec1cfcaf</td><td style='border: 1px solid #dddddd'>productlineregre.2018.12.5.6.21.44.165</td><td style='border: 1px solid #dddddd'>2018-12-05T06:22:10.0824452Z</td><td style='border: 1px solid #dddddd'>model</td><td style='border: 1px solid #dddddd'></td><td style='border: 1px solid #dddddd'>149502ff-65b3-45c9-a145-a7b2ac25ba32</td><td style='border: 1px solid #dddddd'>False</td></tr><tr><td style='border: 1px solid #dddddd'>7b6f7b05a7aa19c7669546864be4636c</td><td style='border: 1px solid #dddddd'>Irisclassificati.me2018.12.4.10.40.56.847</td><td style='border: 1px solid #dddddd'>2018-12-04T10:41:13.1176858Z</td><td style='border: 1px solid #dddddd'>model</td><td style='border: 1px solid #dddddd'></td><td style='border: 1px solid #dddddd'>149502ff-65b3-45c9-a145-a7b2ac25ba32</td><td style='border: 1px solid #dddddd'>False</td></tr><tr><td style='border: 1px solid #dddddd'>2cfbf15dca01a453faa4833009dabcf6</td><td style='border: 1px solid #dddddd'>ProductLine-Yuki-20181204-1537</td><td style='border: 1px solid #dddddd'>2018-12-04T06:37:14.1095386Z</td><td style='border: 1px solid #dddddd'>model</td><td style='border: 1px solid #dddddd'></td><td style='border: 1px solid #dddddd'>149502ff-65b3-45c9-a145-a7b2ac25ba32</td><td style='border: 1px solid #dddddd'>False</td></tr><tr><td style='border: 1px solid #dddddd'>0a9d0563eeb1ab13abd01eae14aacfcd</td><td style='border: 1px solid #dddddd'>DrugSelection-Yuki-20181204-1520</td><td style='border: 1px solid #dddddd'>2018-12-04T06:20:52.6833542Z</td><td style='border: 1px solid #dddddd'>model</td><td style='border: 1px solid #dddddd'></td><td style='border: 1px solid #dddddd'>149502ff-65b3-45c9-a145-a7b2ac25ba32</td><td style='border: 1px solid #dddddd'>False</td></tr><tr><td style='border: 1px solid #dddddd'>e88428224af3cb9f4711a39aba102a1d</td><td style='border: 1px solid #dddddd'>InsuranceClaimBinaryClass1</td><td style='border: 1px solid #dddddd'>2018-11-29T13:44:14.5020986Z</td><td style='border: 1px solid #dddddd'>model</td><td style='border: 1px solid #dddddd'></td><td style='border: 1px solid #dddddd'>149502ff-65b3-45c9-a145-a7b2ac25ba32</td><td style='border: 1px solid #dddddd'>False</td></tr><tr><td style='border: 1px solid #dddddd'>f8a3f2462f0f23f967bf48c2f4d51471</td><td style='border: 1px solid #dddddd'>ProductLineMulticlassification</td><td style='border: 1px solid #dddddd'>2018-11-27T12:31:40.6453108Z</td><td style='border: 1px solid #dddddd'>model</td><td style='border: 1px solid #dddddd'></td><td style='border: 1px solid #dddddd'>149502ff-65b3-45c9-a145-a7b2ac25ba32</td><td style='border: 1px solid #dddddd'>False</td></tr><tr><td style='border: 1px solid #dddddd'>91f11e0d31fa00be92c1967bbf0bbf45</td><td style='border: 1px solid #dddddd'>InsuranceClaimBClassification</td><td style='border: 1px solid #dddddd'>2018-11-26T17:00:45.734513Z</td><td style='border: 1px solid #dddddd'>model</td><td style='border: 1px solid #dddddd'></td><td style='border: 1px solid #dddddd'>149502ff-65b3-45c9-a145-a7b2ac25ba32</td><td style='border: 1px solid #dddddd'>False</td></tr><tr><td style='border: 1px solid #dddddd'>a996478db6f24b67d722ecbe637d2ca7</td><td style='border: 1px solid #dddddd'>InsuranceClaimRegressionModel</td><td style='border: 1px solid #dddddd'>2018-11-21T08:35:02.627712Z</td><td style='border: 1px solid #dddddd'>model</td><td style='border: 1px solid #dddddd'></td><td style='border: 1px solid #dddddd'>149502ff-65b3-45c9-a145-a7b2ac25ba32</td><td style='border: 1px solid #dddddd'>False</td></tr><tr><td style='border: 1px solid #dddddd'>72519e05bd423560d4a919153e6dc029</td><td style='border: 1px solid #dddddd'>ProductLineClass.2018.11.2.11.40.22.845</td><td style='border: 1px solid #dddddd'>2018-11-02T11:40:59.563349Z</td><td style='border: 1px solid #dddddd'>model</td><td style='border: 1px solid #dddddd'></td><td style='border: 1px solid #dddddd'>149502ff-65b3-45c9-a145-a7b2ac25ba32</td><td style='border: 1px solid #dddddd'>False</td></tr><tr><td style='border: 1px solid #dddddd'>0b64ea667b5e40a339f948c10d0adeff</td><td style='border: 1px solid #dddddd'>Irisclassificati.2018.10.22.7.39.3.217</td><td style='border: 1px solid #dddddd'>2018-10-22T07:39:14.9178443Z</td><td style='border: 1px solid #dddddd'>model</td><td style='border: 1px solid #dddddd'></td><td style='border: 1px solid #dddddd'>149502ff-65b3-45c9-a145-a7b2ac25ba32</td><td style='border: 1px solid #dddddd'>False</td></tr><tr><td style='border: 1px solid #dddddd'>f0cad1153dac876126ad53158b0d3cd3</td><td style='border: 1px solid #dddddd'>ProductLineAgeRe.2018.10.22.7.33.27.127</td><td style='border: 1px solid #dddddd'>2018-10-22T07:33:43.7417975Z</td><td style='border: 1px solid #dddddd'>model</td><td style='border: 1px solid #dddddd'></td><td style='border: 1px solid #dddddd'>149502ff-65b3-45c9-a145-a7b2ac25ba32</td><td style='border: 1px solid #dddddd'>False</td></tr><tr><td style='border: 1px solid #dddddd'>d18d5fb45bfcd9253f52fb76657c27ea</td><td style='border: 1px solid #dddddd'>Irisclassificati.2018.10.19.9.49.7.418</td><td style='border: 1px solid #dddddd'>2018-10-19T09:49:27.4251325Z</td><td style='border: 1px solid #dddddd'>model</td><td style='border: 1px solid #dddddd'></td><td style='border: 1px solid #dddddd'>149502ff-65b3-45c9-a145-a7b2ac25ba32</td><td style='border: 1px solid #dddddd'>False</td></tr>\n",
       "            </table>\n",
       "        </body>\n",
       "        </HTML>"
      ],
      "text/plain": [
       "<IPython.core.display.HTML object>"
      ]
     },
     "metadata": {},
     "output_type": "display_data"
    }
   ],
   "source": [
    "client.data_mart.bindings.list_assets()"
   ]
  },
  {
   "cell_type": "markdown",
   "metadata": {},
   "source": [
    "**Action:** Assign your source_uid to `source_uid` variable below."
   ]
  },
  {
   "cell_type": "code",
   "execution_count": 62,
   "metadata": {},
   "outputs": [],
   "source": [
    "source_uid = '986fd3e779b52d0e23a2bde5b6da996c'"
   ]
  },
  {
   "cell_type": "code",
   "execution_count": 63,
   "metadata": {},
   "outputs": [],
   "source": [
    "subscription = client.data_mart.subscriptions.add(\n",
    "            AzureMachineLearningAsset(source_uid=source_uid,\n",
    "                                      binding_uid=binding_uid,\n",
    "                                      input_data_type=InputDataType.STRUCTURED,\n",
    "                                      problem_type=ProblemType.MULTICLASS_CLASSIFICATION,\n",
    "                                      label_column='PRODUCT_LINE',\n",
    "                                      prediction_column='Scored Labels'))"
   ]
  },
  {
   "cell_type": "markdown",
   "metadata": {},
   "source": [
    "#### Get subscriptions list"
   ]
  },
  {
   "cell_type": "code",
   "execution_count": 64,
   "metadata": {},
   "outputs": [],
   "source": [
    "subscriptions = client.data_mart.subscriptions.get_details()"
   ]
  },
  {
   "cell_type": "code",
   "execution_count": 65,
   "metadata": {},
   "outputs": [
    {
     "name": "stdout",
     "output_type": "stream",
     "text": [
      "['986fd3e779b52d0e23a2bde5b6da996c']\n"
     ]
    }
   ],
   "source": [
    "subscriptions_uids = client.data_mart.subscriptions.get_uids()\n",
    "print(subscriptions_uids)"
   ]
  },
  {
   "cell_type": "markdown",
   "metadata": {},
   "source": [
    "#### List subscriptions"
   ]
  },
  {
   "cell_type": "code",
   "execution_count": 66,
   "metadata": {},
   "outputs": [
    {
     "data": {
      "text/html": [
       "<HTML>\n",
       "        <body>\n",
       "            <h3>Subscriptions</h3>\n",
       "            <table style='border: 1px solid #dddddd; font-family: Courier'>\n",
       "                <th style='border: 1px solid #dddddd'>uid</th><th style='border: 1px solid #dddddd'>name</th><th style='border: 1px solid #dddddd'>type</th><th style='border: 1px solid #dddddd'>binding_uid</th><th style='border: 1px solid #dddddd'>created</th>\n",
       "                <tr><td style='border: 1px solid #dddddd'>986fd3e779b52d0e23a2bde5b6da996c</td><td style='border: 1px solid #dddddd'>ScottdaAzureML12.2019.1.29.21.29.50.528</td><td style='border: 1px solid #dddddd'>model</td><td style='border: 1px solid #dddddd'>149502ff-65b3-45c9-a145-a7b2ac25ba32</td><td style='border: 1px solid #dddddd'>2019-01-29T21:57:34.818Z</td></tr>\n",
       "            </table>\n",
       "        </body>\n",
       "        </HTML>"
      ],
      "text/plain": [
       "<IPython.core.display.HTML object>"
      ]
     },
     "metadata": {},
     "output_type": "display_data"
    }
   ],
   "source": [
    "client.data_mart.subscriptions.list()"
   ]
  },
  {
   "cell_type": "markdown",
   "metadata": {},
   "source": [
    "<a id=\"scoring\"></a>\n",
    "## 4. Scoring and payload logging"
   ]
  },
  {
   "cell_type": "markdown",
   "metadata": {},
   "source": [
    "### 4.1 Score the product line model and measure response time"
   ]
  },
  {
   "cell_type": "code",
   "execution_count": 67,
   "metadata": {},
   "outputs": [
    {
     "name": "stdout",
     "output_type": "stream",
     "text": [
      "{\n",
      "  \"Results\": {\n",
      "    \"output1\": [\n",
      "      {\n",
      "        \"GENDER\": \"F\",\n",
      "        \"AGE\": \"27\",\n",
      "        \"MARITAL_STATUS\": \"Single\",\n",
      "        \"PROFESSION\": \"Professional\",\n",
      "        \"PRODUCT_LINE\": \"Personal Accessories\",\n",
      "        \"Scored Probabilities for Class \\\"Camping Equipment\\\"\": \"0\",\n",
      "        \"Scored Probabilities for Class \\\"Golf Equipment\\\"\": \"0\",\n",
      "        \"Scored Probabilities for Class \\\"Mountaineering Equipment\\\"\": \"0.0570687164231906\",\n",
      "        \"Scored Probabilities for Class \\\"Outdoor Protection\\\"\": \"0\",\n",
      "        \"Scored Probabilities for Class \\\"Personal Accessories\\\"\": \"0.942931283576809\",\n",
      "        \"Scored Labels\": \"Personal Accessories\"\n",
      "      }\n",
      "    ]\n",
      "  }\n",
      "}\n"
     ]
    }
   ],
   "source": [
    "import requests\n",
    "import time\n",
    "import json\n",
    "\n",
    "subscription_details = subscription.get_details()\n",
    "scoring_url = subscription_details['entity']['deployments'][0]['scoring_endpoint']['url']\n",
    "\n",
    "data = {\n",
    "    \"Inputs\": {\n",
    "        \"input1\":\n",
    "            [\n",
    "                {\n",
    "                    'GENDER': \"F\",\n",
    "                    'AGE': 27,\n",
    "                    'MARITAL_STATUS': \"Single\",\n",
    "                    'PROFESSION': \"Professional\",\n",
    "                    'PRODUCT_LINE': \"Personal Accessories\",\n",
    "                }\n",
    "            ],\n",
    "    },\n",
    "    \"GlobalParameters\": {\n",
    "    }\n",
    "}\n",
    "\n",
    "body = str.encode(json.dumps(data))\n",
    "\n",
    "token = subscription_details['entity']['deployments'][0]['scoring_endpoint']['credentials']['token']\n",
    "headers = subscription_details['entity']['deployments'][0]['scoring_endpoint']['request_headers']\n",
    "headers['Authorization'] = ('Bearer ' + token)\n",
    "\n",
    "start_time = time.time()\n",
    "response = requests.post(url=scoring_url, data=body, headers=headers)\n",
    "response_time = int(time.time() - start_time)*1000\n",
    "result = response.json()\n",
    "\n",
    "print(json.dumps(result, indent=2))"
   ]
  },
  {
   "cell_type": "markdown",
   "metadata": {},
   "source": [
    "### 4.2 Store the request and response in payload logging table"
   ]
  },
  {
   "cell_type": "markdown",
   "metadata": {},
   "source": [
    "#### Transform the model's input and output to the format compatible with AI OpenScale standard."
   ]
  },
  {
   "cell_type": "code",
   "execution_count": 68,
   "metadata": {},
   "outputs": [],
   "source": [
    "request_data = {'fields': list(data['Inputs']['input1'][0]),\n",
    "           'values': [list(x.values()) for x in data['Inputs']['input1']]}\n",
    "\n",
    "response_data = {'fields': list(result['Results']['output1'][0]),\n",
    "            'values': [list(x.values()) for x in result['Results']['output1']]}"
   ]
  },
  {
   "cell_type": "markdown",
   "metadata": {},
   "source": [
    "#### Store the payload using Python SDK"
   ]
  },
  {
   "cell_type": "markdown",
   "metadata": {},
   "source": [
    "**Hint:** You can embed payload logging code into your custom deployment so it is logged automatically each time you score the model."
   ]
  },
  {
   "cell_type": "code",
   "execution_count": 69,
   "metadata": {},
   "outputs": [],
   "source": [
    "records_list = [PayloadRecord(request=request_data, response=response_data, response_time=response_time), \n",
    "                PayloadRecord(request=request_data, response=response_data, response_time=response_time)]\n",
    "\n",
    "for i in range(1, 10):\n",
    "    records_list.append(PayloadRecord(request=request_data, response=response_data, response_time=response_time))\n",
    "\n",
    "subscription.payload_logging.store(records=records_list)"
   ]
  },
  {
   "cell_type": "markdown",
   "metadata": {},
   "source": [
    "#### Store the payload using REST API"
   ]
  },
  {
   "cell_type": "markdown",
   "metadata": {},
   "source": [
    "Get the token first."
   ]
  },
  {
   "cell_type": "code",
   "execution_count": 70,
   "metadata": {},
   "outputs": [],
   "source": [
    "token_endpoint = \"https://iam.bluemix.net/identity/token\"\n",
    "headers = {\n",
    "    \"Content-Type\": \"application/x-www-form-urlencoded\",\n",
    "    \"Accept\": \"application/json\"\n",
    "}\n",
    "\n",
    "data = {\n",
    "    \"grant_type\":\"urn:ibm:params:oauth:grant-type:apikey\",\n",
    "    \"apikey\":AIOS_CREDENTIALS[\"apikey\"]\n",
    "}\n",
    "\n",
    "req = requests.post(token_endpoint, data=data, headers=headers)\n",
    "token = req.json()['access_token']"
   ]
  },
  {
   "cell_type": "markdown",
   "metadata": {},
   "source": [
    "Store the payload."
   ]
  },
  {
   "cell_type": "code",
   "execution_count": 71,
   "metadata": {},
   "outputs": [
    {
     "name": "stdout",
     "output_type": "stream",
     "text": [
      "Request OK: True\n"
     ]
    }
   ],
   "source": [
    "import requests, uuid\n",
    "\n",
    "PAYLOAD_STORING_HREF_PATTERN = '{}/v1/data_marts/{}/scoring_payloads'\n",
    "endpoint = PAYLOAD_STORING_HREF_PATTERN.format(AIOS_CREDENTIALS['url'], AIOS_CREDENTIALS['data_mart_id'])\n",
    "\n",
    "payload = [{\n",
    "    'binding_id': binding_uid, \n",
    "    'deployment_id': subscription.get_details()['entity']['deployments'][0]['deployment_id'], \n",
    "    'subscription_id': subscription.uid, \n",
    "    'scoring_id': str(uuid.uuid4()), \n",
    "    'response': response_data,\n",
    "    'request': request_data\n",
    "}]\n",
    "\n",
    "\n",
    "headers = {\"Authorization\": \"Bearer \" + token}\n",
    "      \n",
    "req_response = requests.post(endpoint, json=payload, headers = headers)\n",
    "\n",
    "print(\"Request OK: \" + str(req_response.ok))"
   ]
  },
  {
   "cell_type": "markdown",
   "metadata": {},
   "source": [
    "<a id=\"feedback\"></a>\n",
    "## 5. Feedback logging & quality (accuracy) monitoring"
   ]
  },
  {
   "cell_type": "markdown",
   "metadata": {},
   "source": [
    "### Enable quality monitoring"
   ]
  },
  {
   "cell_type": "markdown",
   "metadata": {},
   "source": [
    "You need to provide the monitoring `threshold` and `min_records` (minimal number of feedback records)."
   ]
  },
  {
   "cell_type": "code",
   "execution_count": 72,
   "metadata": {},
   "outputs": [],
   "source": [
    "subscription.quality_monitoring.enable(threshold=0.7, min_records=10)"
   ]
  },
  {
   "cell_type": "markdown",
   "metadata": {},
   "source": [
    "### Feedback records logging"
   ]
  },
  {
   "cell_type": "markdown",
   "metadata": {},
   "source": [
    "Feedback records are used to evaluate your model. The predicted values are compared to real values (feedback records)."
   ]
  },
  {
   "cell_type": "markdown",
   "metadata": {},
   "source": [
    "You can check the schema of feedback table using the below method."
   ]
  },
  {
   "cell_type": "code",
   "execution_count": 73,
   "metadata": {},
   "outputs": [
    {
     "data": {
      "text/html": [
       "<HTML>\n",
       "        <body>\n",
       "            <h3>Schema of Feedback_986fd3e779b52d0e23a2bde5b6da996c</h3>\n",
       "            <table style='border: 1px solid #dddddd; font-family: Courier'>\n",
       "                <th style='border: 1px solid #dddddd'>name</th><th style='border: 1px solid #dddddd'>type</th><th style='border: 1px solid #dddddd'>nullable</th>\n",
       "                <tr><td style='border: 1px solid #dddddd'>GENDER</td><td style='border: 1px solid #dddddd'>string</td><td style='border: 1px solid #dddddd'>True</td></tr><tr><td style='border: 1px solid #dddddd'>AGE</td><td style='border: 1px solid #dddddd'>integer</td><td style='border: 1px solid #dddddd'>True</td></tr><tr><td style='border: 1px solid #dddddd'>MARITAL_STATUS</td><td style='border: 1px solid #dddddd'>string</td><td style='border: 1px solid #dddddd'>True</td></tr><tr><td style='border: 1px solid #dddddd'>PROFESSION</td><td style='border: 1px solid #dddddd'>string</td><td style='border: 1px solid #dddddd'>True</td></tr><tr><td style='border: 1px solid #dddddd'>PRODUCT_LINE</td><td style='border: 1px solid #dddddd'>string</td><td style='border: 1px solid #dddddd'>True</td></tr><tr><td style='border: 1px solid #dddddd'>_training</td><td style='border: 1px solid #dddddd'>timestamp</td><td style='border: 1px solid #dddddd'>False</td></tr>\n",
       "            </table>\n",
       "        </body>\n",
       "        </HTML>"
      ],
      "text/plain": [
       "<IPython.core.display.HTML object>"
      ]
     },
     "metadata": {},
     "output_type": "display_data"
    }
   ],
   "source": [
    "subscription.feedback_logging.print_table_schema()"
   ]
  },
  {
   "cell_type": "markdown",
   "metadata": {},
   "source": [
    "The feedback records can be sent to the feedback table using the code below."
   ]
  },
  {
   "cell_type": "code",
   "execution_count": 74,
   "metadata": {},
   "outputs": [],
   "source": [
    "fields = [\"GENDER\", \"AGE\", \"MARITAL_STATUS\", \"PROFESSION\", \"PRODUCT_LINE\"]\n",
    "\n",
    "records = [\n",
    "    [\"F\", \"27\", \"Single\", \"Professional\", \"Personal Accessories\"],\n",
    "    [\"M\", \"27\", \"Single\", \"Professional\", \"Personal Accessories\"]]\n",
    "\n",
    "for i in range(1,10):\n",
    "    records.append([\"F\", \"27\", \"Single\", \"Professional\", \"Personal Accessories\"])\n",
    "\n",
    "subscription.feedback_logging.store(feedback_data=records, fields=fields)"
   ]
  },
  {
   "cell_type": "markdown",
   "metadata": {},
   "source": [
    "### Run quality monitoring on demand"
   ]
  },
  {
   "cell_type": "markdown",
   "metadata": {},
   "source": [
    "By default, quality monitoring is run on hourly schedule. You can also trigger it on demand using the code below."
   ]
  },
  {
   "cell_type": "code",
   "execution_count": 75,
   "metadata": {},
   "outputs": [],
   "source": [
    "run_details = subscription.quality_monitoring.run()"
   ]
  },
  {
   "cell_type": "markdown",
   "metadata": {},
   "source": [
    "Since the monitoring runs in the background you can use method below to check the status of the job."
   ]
  },
  {
   "cell_type": "code",
   "execution_count": 76,
   "metadata": {},
   "outputs": [
    {
     "name": "stdout",
     "output_type": "stream",
     "text": [
      "Run status: initializing\n",
      "Run status: completed\n"
     ]
    }
   ],
   "source": [
    "status = run_details['status']\n",
    "id = run_details['id']\n",
    "\n",
    "print(\"Run status: {}\".format(status))\n",
    "\n",
    "start_time = time.time()\n",
    "elapsed_time = 0\n",
    "\n",
    "while status != 'completed' and elapsed_time < 60:\n",
    "    time.sleep(10)\n",
    "    run_details = subscription.quality_monitoring.get_run_details(run_uid=id)\n",
    "    status = run_details['status']\n",
    "    elapsed_time = time.time() - start_time\n",
    "    print(\"Run status: {}\".format(status))"
   ]
  },
  {
   "cell_type": "markdown",
   "metadata": {},
   "source": [
    "### Show the quality metrics"
   ]
  },
  {
   "cell_type": "code",
   "execution_count": 77,
   "metadata": {},
   "outputs": [
    {
     "data": {
      "text/html": [
       "<HTML>\n",
       "        <body>\n",
       "            <h3>QualityMetrics (binding_id=149502ff-65b3-45c9-a145-a7b2ac25ba32, subscription_id=986fd3e779b52d0e23a2bde5b6da996c)</h3>\n",
       "            <table style='border: 1px solid #dddddd; font-family: Courier'>\n",
       "                <th style='border: 1px solid #dddddd'>ts</th><th style='border: 1px solid #dddddd'>quality</th><th style='border: 1px solid #dddddd'>quality_threshold</th><th style='border: 1px solid #dddddd'>binding_id</th><th style='border: 1px solid #dddddd'>subscription_id</th><th style='border: 1px solid #dddddd'>deployment_id</th><th style='border: 1px solid #dddddd'>process</th><th style='border: 1px solid #dddddd'>asset_revision</th>\n",
       "                <tr><td style='border: 1px solid #dddddd'>2019-01-29 22:01:07.307000+00:00</td><td style='border: 1px solid #dddddd'>0.9090909090909091</td><td style='border: 1px solid #dddddd'>0.7</td><td style='border: 1px solid #dddddd'>149502ff-65b3-45c9-a145-a7b2ac25ba32</td><td style='border: 1px solid #dddddd'>986fd3e779b52d0e23a2bde5b6da996c</td><td style='border: 1px solid #dddddd'>3bf505608b3fce0eaa5c89fc1db08457</td><td style='border: 1px solid #dddddd'>Accuracy_evaluation_04039cff-20a5-4786-90c2-826c402796a3</td><td style='border: 1px solid #dddddd'></td></tr>\n",
       "            </table>\n",
       "        </body>\n",
       "        </HTML>"
      ],
      "text/plain": [
       "<IPython.core.display.HTML object>"
      ]
     },
     "metadata": {},
     "output_type": "display_data"
    }
   ],
   "source": [
    "subscription.quality_monitoring.show_table()"
   ]
  },
  {
   "cell_type": "markdown",
   "metadata": {},
   "source": [
    "Get all calculated metrics."
   ]
  },
  {
   "cell_type": "code",
   "execution_count": 78,
   "metadata": {},
   "outputs": [],
   "source": [
    "deployment_uids = subscription.get_deployment_uids()"
   ]
  },
  {
   "cell_type": "code",
   "execution_count": 79,
   "metadata": {},
   "outputs": [
    {
     "data": {
      "text/plain": [
       "{'start': '2019-01-29T20:57:34.818Z',\n",
       " 'end': '2019-01-29T22:02:04.471142Z',\n",
       " 'metrics': [{'timestamp': '2019-01-29T22:01:07.307Z',\n",
       "   'value': {'metrics': [{'name': 'weightedTruePositiveRate',\n",
       "      'value': 0.9090909090909091},\n",
       "     {'name': 'accuracy', 'value': 0.9090909090909091},\n",
       "     {'name': 'weightedFMeasure', 'value': 0.8658008658008658},\n",
       "     {'name': 'weightedRecall', 'value': 0.9090909090909091},\n",
       "     {'name': 'weightedFalsePositiveRate', 'value': 0.9090909090909091},\n",
       "     {'name': 'weightedPrecision', 'value': 0.8264462809917354}],\n",
       "    'quality': 0.9090909090909091,\n",
       "    'threshold': 0.7},\n",
       "   'process': 'Accuracy_evaluation_04039cff-20a5-4786-90c2-826c402796a3'}]}"
      ]
     },
     "execution_count": 79,
     "metadata": {},
     "output_type": "execute_result"
    }
   ],
   "source": [
    "subscription.quality_monitoring.get_metrics(deployment_uid=deployment_uids[0])"
   ]
  },
  {
   "cell_type": "markdown",
   "metadata": {},
   "source": [
    "<a id=\"datamart\"></a>\n",
    "## 6. Get the logged data"
   ]
  },
  {
   "cell_type": "markdown",
   "metadata": {},
   "source": [
    "### 6.1 Payload logging"
   ]
  },
  {
   "cell_type": "markdown",
   "metadata": {},
   "source": [
    "#### Print schema of payload_logging table"
   ]
  },
  {
   "cell_type": "code",
   "execution_count": 80,
   "metadata": {},
   "outputs": [
    {
     "data": {
      "text/html": [
       "<HTML>\n",
       "        <body>\n",
       "            <h3>Schema of Payload_986fd3e779b52d0e23a2bde5b6da996c</h3>\n",
       "            <table style='border: 1px solid #dddddd; font-family: Courier'>\n",
       "                <th style='border: 1px solid #dddddd'>name</th><th style='border: 1px solid #dddddd'>type</th><th style='border: 1px solid #dddddd'>nullable</th>\n",
       "                <tr><td style='border: 1px solid #dddddd'>scoring_id</td><td style='border: 1px solid #dddddd'>string</td><td style='border: 1px solid #dddddd'>False</td></tr><tr><td style='border: 1px solid #dddddd'>scoring_timestamp</td><td style='border: 1px solid #dddddd'>timestamp</td><td style='border: 1px solid #dddddd'>False</td></tr><tr><td style='border: 1px solid #dddddd'>deployment_id</td><td style='border: 1px solid #dddddd'>string</td><td style='border: 1px solid #dddddd'>False</td></tr><tr><td style='border: 1px solid #dddddd'>asset_revision</td><td style='border: 1px solid #dddddd'>string</td><td style='border: 1px solid #dddddd'>True</td></tr><tr><td style='border: 1px solid #dddddd'>GENDER</td><td style='border: 1px solid #dddddd'>string</td><td style='border: 1px solid #dddddd'>True</td></tr><tr><td style='border: 1px solid #dddddd'>AGE</td><td style='border: 1px solid #dddddd'>integer</td><td style='border: 1px solid #dddddd'>True</td></tr><tr><td style='border: 1px solid #dddddd'>MARITAL_STATUS</td><td style='border: 1px solid #dddddd'>string</td><td style='border: 1px solid #dddddd'>True</td></tr><tr><td style='border: 1px solid #dddddd'>PROFESSION</td><td style='border: 1px solid #dddddd'>string</td><td style='border: 1px solid #dddddd'>True</td></tr><tr><td style='border: 1px solid #dddddd'>PRODUCT_LINE</td><td style='border: 1px solid #dddddd'>string</td><td style='border: 1px solid #dddddd'>True</td></tr><tr><td style='border: 1px solid #dddddd'>Scored Probabilities for Class \"Camping Equipment\"</td><td style='border: 1px solid #dddddd'>string</td><td style='border: 1px solid #dddddd'>True</td></tr><tr><td style='border: 1px solid #dddddd'>Scored Probabilities for Class \"Golf Equipment\"</td><td style='border: 1px solid #dddddd'>string</td><td style='border: 1px solid #dddddd'>True</td></tr><tr><td style='border: 1px solid #dddddd'>Scored Probabilities for Class \"Mountaineering Equipment\"</td><td style='border: 1px solid #dddddd'>string</td><td style='border: 1px solid #dddddd'>True</td></tr><tr><td style='border: 1px solid #dddddd'>Scored Probabilities for Class \"Outdoor Protection\"</td><td style='border: 1px solid #dddddd'>string</td><td style='border: 1px solid #dddddd'>True</td></tr><tr><td style='border: 1px solid #dddddd'>Scored Probabilities for Class \"Personal Accessories\"</td><td style='border: 1px solid #dddddd'>string</td><td style='border: 1px solid #dddddd'>True</td></tr><tr><td style='border: 1px solid #dddddd'>Scored Labels</td><td style='border: 1px solid #dddddd'>string</td><td style='border: 1px solid #dddddd'>True</td></tr><tr><td style='border: 1px solid #dddddd'>Scored Probabilities</td><td style='border: 1px solid #dddddd'>{'type': 'array', 'elementType': 'double', 'containsNull': False}</td><td style='border: 1px solid #dddddd'>False</td></tr>\n",
       "            </table>\n",
       "        </body>\n",
       "        </HTML>"
      ],
      "text/plain": [
       "<IPython.core.display.HTML object>"
      ]
     },
     "metadata": {},
     "output_type": "display_data"
    }
   ],
   "source": [
    "subscription.payload_logging.print_table_schema()"
   ]
  },
  {
   "cell_type": "markdown",
   "metadata": {},
   "source": [
    "#### Show (preview) the table"
   ]
  },
  {
   "cell_type": "code",
   "execution_count": 81,
   "metadata": {},
   "outputs": [
    {
     "name": "stdout",
     "output_type": "stream",
     "text": [
      "        AGE\n",
      "count   8.0\n",
      "mean   27.0\n",
      "std     0.0\n",
      "min    27.0\n",
      "25%    27.0\n",
      "50%    27.0\n",
      "75%    27.0\n",
      "max    27.0\n"
     ]
    }
   ],
   "source": [
    "subscription.payload_logging.describe_table()"
   ]
  },
  {
   "cell_type": "markdown",
   "metadata": {},
   "source": [
    "#### Return the table content as pandas dataframe"
   ]
  },
  {
   "cell_type": "code",
   "execution_count": 82,
   "metadata": {},
   "outputs": [],
   "source": [
    "pandas_df = subscription.payload_logging.get_table_content(format='pandas')"
   ]
  },
  {
   "cell_type": "markdown",
   "metadata": {},
   "source": [
    "### 6.2 Feddback logging"
   ]
  },
  {
   "cell_type": "markdown",
   "metadata": {},
   "source": [
    "Check the schema of table."
   ]
  },
  {
   "cell_type": "code",
   "execution_count": 83,
   "metadata": {},
   "outputs": [
    {
     "data": {
      "text/html": [
       "<HTML>\n",
       "        <body>\n",
       "            <h3>Schema of Feedback_986fd3e779b52d0e23a2bde5b6da996c</h3>\n",
       "            <table style='border: 1px solid #dddddd; font-family: Courier'>\n",
       "                <th style='border: 1px solid #dddddd'>name</th><th style='border: 1px solid #dddddd'>type</th><th style='border: 1px solid #dddddd'>nullable</th>\n",
       "                <tr><td style='border: 1px solid #dddddd'>GENDER</td><td style='border: 1px solid #dddddd'>string</td><td style='border: 1px solid #dddddd'>True</td></tr><tr><td style='border: 1px solid #dddddd'>AGE</td><td style='border: 1px solid #dddddd'>integer</td><td style='border: 1px solid #dddddd'>True</td></tr><tr><td style='border: 1px solid #dddddd'>MARITAL_STATUS</td><td style='border: 1px solid #dddddd'>string</td><td style='border: 1px solid #dddddd'>True</td></tr><tr><td style='border: 1px solid #dddddd'>PROFESSION</td><td style='border: 1px solid #dddddd'>string</td><td style='border: 1px solid #dddddd'>True</td></tr><tr><td style='border: 1px solid #dddddd'>PRODUCT_LINE</td><td style='border: 1px solid #dddddd'>string</td><td style='border: 1px solid #dddddd'>True</td></tr><tr><td style='border: 1px solid #dddddd'>_training</td><td style='border: 1px solid #dddddd'>timestamp</td><td style='border: 1px solid #dddddd'>False</td></tr>\n",
       "            </table>\n",
       "        </body>\n",
       "        </HTML>"
      ],
      "text/plain": [
       "<IPython.core.display.HTML object>"
      ]
     },
     "metadata": {},
     "output_type": "display_data"
    }
   ],
   "source": [
    "subscription.feedback_logging.print_table_schema()"
   ]
  },
  {
   "cell_type": "markdown",
   "metadata": {},
   "source": [
    "Preview table content."
   ]
  },
  {
   "cell_type": "code",
   "execution_count": 84,
   "metadata": {},
   "outputs": [
    {
     "data": {
      "text/html": [
       "<HTML>\n",
       "        <body>\n",
       "            <h3>Feedback_986fd3e779b52d0e23a2bde5b6da996c (binding_id=149502ff-65b3-45c9-a145-a7b2ac25ba32, subscription_id=986fd3e779b52d0e23a2bde5b6da996c)</h3>\n",
       "            <table style='border: 1px solid #dddddd; font-family: Courier'>\n",
       "                <th style='border: 1px solid #dddddd'>GENDER</th><th style='border: 1px solid #dddddd'>AGE</th><th style='border: 1px solid #dddddd'>MARITAL_STATUS</th><th style='border: 1px solid #dddddd'>PROFESSION</th><th style='border: 1px solid #dddddd'>PRODUCT_LINE</th><th style='border: 1px solid #dddddd'>_training</th>\n",
       "                <tr><td style='border: 1px solid #dddddd'>F</td><td style='border: 1px solid #dddddd'>27</td><td style='border: 1px solid #dddddd'>Single</td><td style='border: 1px solid #dddddd'>Professional</td><td style='border: 1px solid #dddddd'>Personal Accessories</td><td style='border: 1px solid #dddddd'>2019-01-29 22:01:03.429000+00:00</td></tr><tr><td style='border: 1px solid #dddddd'>M</td><td style='border: 1px solid #dddddd'>27</td><td style='border: 1px solid #dddddd'>Single</td><td style='border: 1px solid #dddddd'>Professional</td><td style='border: 1px solid #dddddd'>Personal Accessories</td><td style='border: 1px solid #dddddd'>2019-01-29 22:01:03.429000+00:00</td></tr><tr><td style='border: 1px solid #dddddd'>F</td><td style='border: 1px solid #dddddd'>27</td><td style='border: 1px solid #dddddd'>Single</td><td style='border: 1px solid #dddddd'>Professional</td><td style='border: 1px solid #dddddd'>Personal Accessories</td><td style='border: 1px solid #dddddd'>2019-01-29 22:01:03.429000+00:00</td></tr><tr><td style='border: 1px solid #dddddd'>F</td><td style='border: 1px solid #dddddd'>27</td><td style='border: 1px solid #dddddd'>Single</td><td style='border: 1px solid #dddddd'>Professional</td><td style='border: 1px solid #dddddd'>Personal Accessories</td><td style='border: 1px solid #dddddd'>2019-01-29 22:01:03.429000+00:00</td></tr><tr><td style='border: 1px solid #dddddd'>F</td><td style='border: 1px solid #dddddd'>27</td><td style='border: 1px solid #dddddd'>Single</td><td style='border: 1px solid #dddddd'>Professional</td><td style='border: 1px solid #dddddd'>Personal Accessories</td><td style='border: 1px solid #dddddd'>2019-01-29 22:01:03.429000+00:00</td></tr><tr><td style='border: 1px solid #dddddd'>F</td><td style='border: 1px solid #dddddd'>27</td><td style='border: 1px solid #dddddd'>Single</td><td style='border: 1px solid #dddddd'>Professional</td><td style='border: 1px solid #dddddd'>Personal Accessories</td><td style='border: 1px solid #dddddd'>2019-01-29 22:01:03.429000+00:00</td></tr><tr><td style='border: 1px solid #dddddd'>F</td><td style='border: 1px solid #dddddd'>27</td><td style='border: 1px solid #dddddd'>Single</td><td style='border: 1px solid #dddddd'>Professional</td><td style='border: 1px solid #dddddd'>Personal Accessories</td><td style='border: 1px solid #dddddd'>2019-01-29 22:01:03.429000+00:00</td></tr><tr><td style='border: 1px solid #dddddd'>F</td><td style='border: 1px solid #dddddd'>27</td><td style='border: 1px solid #dddddd'>Single</td><td style='border: 1px solid #dddddd'>Professional</td><td style='border: 1px solid #dddddd'>Personal Accessories</td><td style='border: 1px solid #dddddd'>2019-01-29 22:01:03.429000+00:00</td></tr><tr><td style='border: 1px solid #dddddd'>F</td><td style='border: 1px solid #dddddd'>27</td><td style='border: 1px solid #dddddd'>Single</td><td style='border: 1px solid #dddddd'>Professional</td><td style='border: 1px solid #dddddd'>Personal Accessories</td><td style='border: 1px solid #dddddd'>2019-01-29 22:01:03.429000+00:00</td></tr><tr><td style='border: 1px solid #dddddd'>F</td><td style='border: 1px solid #dddddd'>27</td><td style='border: 1px solid #dddddd'>Single</td><td style='border: 1px solid #dddddd'>Professional</td><td style='border: 1px solid #dddddd'>Personal Accessories</td><td style='border: 1px solid #dddddd'>2019-01-29 22:01:03.429000+00:00</td></tr>\n",
       "            </table>\n",
       "        </body>\n",
       "        </HTML>"
      ],
      "text/plain": [
       "<IPython.core.display.HTML object>"
      ]
     },
     "metadata": {},
     "output_type": "display_data"
    }
   ],
   "source": [
    "subscription.feedback_logging.show_table()"
   ]
  },
  {
   "cell_type": "markdown",
   "metadata": {},
   "source": [
    "Describe table (calulcate basic statistics)."
   ]
  },
  {
   "cell_type": "code",
   "execution_count": 85,
   "metadata": {},
   "outputs": [
    {
     "name": "stdout",
     "output_type": "stream",
     "text": [
      "        AGE\n",
      "count  11.0\n",
      "mean   27.0\n",
      "std     0.0\n",
      "min    27.0\n",
      "25%    27.0\n",
      "50%    27.0\n",
      "75%    27.0\n",
      "max    27.0\n"
     ]
    }
   ],
   "source": [
    "subscription.feedback_logging.describe_table()"
   ]
  },
  {
   "cell_type": "markdown",
   "metadata": {},
   "source": [
    "Get table content."
   ]
  },
  {
   "cell_type": "code",
   "execution_count": 86,
   "metadata": {},
   "outputs": [],
   "source": [
    "feedback_pd = subscription.feedback_logging.get_table_content(format='pandas')"
   ]
  },
  {
   "cell_type": "markdown",
   "metadata": {},
   "source": [
    "### 6.3 Quality metrics table"
   ]
  },
  {
   "cell_type": "code",
   "execution_count": 87,
   "metadata": {},
   "outputs": [
    {
     "data": {
      "text/html": [
       "<HTML>\n",
       "        <body>\n",
       "            <h3>Schema of QualityMetrics</h3>\n",
       "            <table style='border: 1px solid #dddddd; font-family: Courier'>\n",
       "                <th style='border: 1px solid #dddddd'>name</th><th style='border: 1px solid #dddddd'>type</th><th style='border: 1px solid #dddddd'>nullable</th>\n",
       "                <tr><td style='border: 1px solid #dddddd'>ts</td><td style='border: 1px solid #dddddd'>timestamp</td><td style='border: 1px solid #dddddd'>False</td></tr><tr><td style='border: 1px solid #dddddd'>quality</td><td style='border: 1px solid #dddddd'>float</td><td style='border: 1px solid #dddddd'>False</td></tr><tr><td style='border: 1px solid #dddddd'>quality_threshold</td><td style='border: 1px solid #dddddd'>float</td><td style='border: 1px solid #dddddd'>False</td></tr><tr><td style='border: 1px solid #dddddd'>binding_id</td><td style='border: 1px solid #dddddd'>string</td><td style='border: 1px solid #dddddd'>False</td></tr><tr><td style='border: 1px solid #dddddd'>subscription_id</td><td style='border: 1px solid #dddddd'>string</td><td style='border: 1px solid #dddddd'>False</td></tr><tr><td style='border: 1px solid #dddddd'>deployment_id</td><td style='border: 1px solid #dddddd'>string</td><td style='border: 1px solid #dddddd'>True</td></tr><tr><td style='border: 1px solid #dddddd'>process</td><td style='border: 1px solid #dddddd'>string</td><td style='border: 1px solid #dddddd'>False</td></tr><tr><td style='border: 1px solid #dddddd'>asset_revision</td><td style='border: 1px solid #dddddd'>string</td><td style='border: 1px solid #dddddd'>True</td></tr>\n",
       "            </table>\n",
       "        </body>\n",
       "        </HTML>"
      ],
      "text/plain": [
       "<IPython.core.display.HTML object>"
      ]
     },
     "metadata": {},
     "output_type": "display_data"
    }
   ],
   "source": [
    "subscription.quality_monitoring.print_table_schema()"
   ]
  },
  {
   "cell_type": "code",
   "execution_count": 88,
   "metadata": {},
   "outputs": [
    {
     "data": {
      "text/html": [
       "<HTML>\n",
       "        <body>\n",
       "            <h3>QualityMetrics (binding_id=149502ff-65b3-45c9-a145-a7b2ac25ba32, subscription_id=986fd3e779b52d0e23a2bde5b6da996c)</h3>\n",
       "            <table style='border: 1px solid #dddddd; font-family: Courier'>\n",
       "                <th style='border: 1px solid #dddddd'>ts</th><th style='border: 1px solid #dddddd'>quality</th><th style='border: 1px solid #dddddd'>quality_threshold</th><th style='border: 1px solid #dddddd'>binding_id</th><th style='border: 1px solid #dddddd'>subscription_id</th><th style='border: 1px solid #dddddd'>deployment_id</th><th style='border: 1px solid #dddddd'>process</th><th style='border: 1px solid #dddddd'>asset_revision</th>\n",
       "                <tr><td style='border: 1px solid #dddddd'>2019-01-29 22:01:07.307000+00:00</td><td style='border: 1px solid #dddddd'>0.9090909090909091</td><td style='border: 1px solid #dddddd'>0.7</td><td style='border: 1px solid #dddddd'>149502ff-65b3-45c9-a145-a7b2ac25ba32</td><td style='border: 1px solid #dddddd'>986fd3e779b52d0e23a2bde5b6da996c</td><td style='border: 1px solid #dddddd'>3bf505608b3fce0eaa5c89fc1db08457</td><td style='border: 1px solid #dddddd'>Accuracy_evaluation_04039cff-20a5-4786-90c2-826c402796a3</td><td style='border: 1px solid #dddddd'></td></tr>\n",
       "            </table>\n",
       "        </body>\n",
       "        </HTML>"
      ],
      "text/plain": [
       "<IPython.core.display.HTML object>"
      ]
     },
     "metadata": {},
     "output_type": "display_data"
    }
   ],
   "source": [
    "subscription.quality_monitoring.show_table()"
   ]
  },
  {
   "cell_type": "markdown",
   "metadata": {},
   "source": [
    "### 6.4 Performance metrics table"
   ]
  },
  {
   "cell_type": "code",
   "execution_count": 89,
   "metadata": {},
   "outputs": [
    {
     "data": {
      "text/html": [
       "<HTML>\n",
       "        <body>\n",
       "            <h3>Schema of PerformanceMetrics</h3>\n",
       "            <table style='border: 1px solid #dddddd; font-family: Courier'>\n",
       "                <th style='border: 1px solid #dddddd'>name</th><th style='border: 1px solid #dddddd'>type</th><th style='border: 1px solid #dddddd'>nullable</th>\n",
       "                <tr><td style='border: 1px solid #dddddd'>ts</td><td style='border: 1px solid #dddddd'>timestamp</td><td style='border: 1px solid #dddddd'>False</td></tr><tr><td style='border: 1px solid #dddddd'>scoring_time</td><td style='border: 1px solid #dddddd'>float</td><td style='border: 1px solid #dddddd'>False</td></tr><tr><td style='border: 1px solid #dddddd'>scoring_records</td><td style='border: 1px solid #dddddd'>object</td><td style='border: 1px solid #dddddd'>False</td></tr><tr><td style='border: 1px solid #dddddd'>binding_id</td><td style='border: 1px solid #dddddd'>string</td><td style='border: 1px solid #dddddd'>False</td></tr><tr><td style='border: 1px solid #dddddd'>subscription_id</td><td style='border: 1px solid #dddddd'>string</td><td style='border: 1px solid #dddddd'>False</td></tr><tr><td style='border: 1px solid #dddddd'>deployment_id</td><td style='border: 1px solid #dddddd'>string</td><td style='border: 1px solid #dddddd'>True</td></tr><tr><td style='border: 1px solid #dddddd'>process</td><td style='border: 1px solid #dddddd'>string</td><td style='border: 1px solid #dddddd'>False</td></tr><tr><td style='border: 1px solid #dddddd'>asset_revision</td><td style='border: 1px solid #dddddd'>string</td><td style='border: 1px solid #dddddd'>True</td></tr>\n",
       "            </table>\n",
       "        </body>\n",
       "        </HTML>"
      ],
      "text/plain": [
       "<IPython.core.display.HTML object>"
      ]
     },
     "metadata": {},
     "output_type": "display_data"
    }
   ],
   "source": [
    "subscription.performance_monitoring.print_table_schema()"
   ]
  },
  {
   "cell_type": "code",
   "execution_count": 90,
   "metadata": {},
   "outputs": [
    {
     "data": {
      "text/html": [
       "<HTML>\n",
       "        <body>\n",
       "            <h3>PerformanceMetrics (binding_id=149502ff-65b3-45c9-a145-a7b2ac25ba32, subscription_id=986fd3e779b52d0e23a2bde5b6da996c)</h3>\n",
       "            <table style='border: 1px solid #dddddd; font-family: Courier'>\n",
       "                <th style='border: 1px solid #dddddd'>ts</th><th style='border: 1px solid #dddddd'>scoring_time</th><th style='border: 1px solid #dddddd'>scoring_records</th><th style='border: 1px solid #dddddd'>binding_id</th><th style='border: 1px solid #dddddd'>subscription_id</th><th style='border: 1px solid #dddddd'>deployment_id</th><th style='border: 1px solid #dddddd'>process</th><th style='border: 1px solid #dddddd'>asset_revision</th>\n",
       "                <tr><td style='border: 1px solid #dddddd'>2019-01-29 22:00:37.073801+00:00</td><td style='border: 1px solid #dddddd'>0.0</td><td style='border: 1px solid #dddddd'>1</td><td style='border: 1px solid #dddddd'>149502ff-65b3-45c9-a145-a7b2ac25ba32</td><td style='border: 1px solid #dddddd'>986fd3e779b52d0e23a2bde5b6da996c</td><td style='border: 1px solid #dddddd'>3bf505608b3fce0eaa5c89fc1db08457</td><td style='border: 1px solid #dddddd'></td><td style='border: 1px solid #dddddd'></td></tr><tr><td style='border: 1px solid #dddddd'>2019-01-29 22:00:37.073920+00:00</td><td style='border: 1px solid #dddddd'>0.0</td><td style='border: 1px solid #dddddd'>1</td><td style='border: 1px solid #dddddd'>149502ff-65b3-45c9-a145-a7b2ac25ba32</td><td style='border: 1px solid #dddddd'>986fd3e779b52d0e23a2bde5b6da996c</td><td style='border: 1px solid #dddddd'>3bf505608b3fce0eaa5c89fc1db08457</td><td style='border: 1px solid #dddddd'></td><td style='border: 1px solid #dddddd'></td></tr><tr><td style='border: 1px solid #dddddd'>2019-01-29 22:00:37.073780+00:00</td><td style='border: 1px solid #dddddd'>0.0</td><td style='border: 1px solid #dddddd'>1</td><td style='border: 1px solid #dddddd'>149502ff-65b3-45c9-a145-a7b2ac25ba32</td><td style='border: 1px solid #dddddd'>986fd3e779b52d0e23a2bde5b6da996c</td><td style='border: 1px solid #dddddd'>3bf505608b3fce0eaa5c89fc1db08457</td><td style='border: 1px solid #dddddd'></td><td style='border: 1px solid #dddddd'></td></tr><tr><td style='border: 1px solid #dddddd'>2019-01-29 22:00:37.073901+00:00</td><td style='border: 1px solid #dddddd'>0.0</td><td style='border: 1px solid #dddddd'>1</td><td style='border: 1px solid #dddddd'>149502ff-65b3-45c9-a145-a7b2ac25ba32</td><td style='border: 1px solid #dddddd'>986fd3e779b52d0e23a2bde5b6da996c</td><td style='border: 1px solid #dddddd'>3bf505608b3fce0eaa5c89fc1db08457</td><td style='border: 1px solid #dddddd'></td><td style='border: 1px solid #dddddd'></td></tr><tr><td style='border: 1px solid #dddddd'>2019-01-29 22:00:37.073670+00:00</td><td style='border: 1px solid #dddddd'>0.0</td><td style='border: 1px solid #dddddd'>1</td><td style='border: 1px solid #dddddd'>149502ff-65b3-45c9-a145-a7b2ac25ba32</td><td style='border: 1px solid #dddddd'>986fd3e779b52d0e23a2bde5b6da996c</td><td style='border: 1px solid #dddddd'>3bf505608b3fce0eaa5c89fc1db08457</td><td style='border: 1px solid #dddddd'></td><td style='border: 1px solid #dddddd'></td></tr><tr><td style='border: 1px solid #dddddd'>2019-01-29 22:00:37.073842+00:00</td><td style='border: 1px solid #dddddd'>0.0</td><td style='border: 1px solid #dddddd'>1</td><td style='border: 1px solid #dddddd'>149502ff-65b3-45c9-a145-a7b2ac25ba32</td><td style='border: 1px solid #dddddd'>986fd3e779b52d0e23a2bde5b6da996c</td><td style='border: 1px solid #dddddd'>3bf505608b3fce0eaa5c89fc1db08457</td><td style='border: 1px solid #dddddd'></td><td style='border: 1px solid #dddddd'></td></tr><tr><td style='border: 1px solid #dddddd'>2019-01-29 22:00:37.073757+00:00</td><td style='border: 1px solid #dddddd'>0.0</td><td style='border: 1px solid #dddddd'>1</td><td style='border: 1px solid #dddddd'>149502ff-65b3-45c9-a145-a7b2ac25ba32</td><td style='border: 1px solid #dddddd'>986fd3e779b52d0e23a2bde5b6da996c</td><td style='border: 1px solid #dddddd'>3bf505608b3fce0eaa5c89fc1db08457</td><td style='border: 1px solid #dddddd'></td><td style='border: 1px solid #dddddd'></td></tr><tr><td style='border: 1px solid #dddddd'>2019-01-29 22:00:37.073881+00:00</td><td style='border: 1px solid #dddddd'>0.0</td><td style='border: 1px solid #dddddd'>1</td><td style='border: 1px solid #dddddd'>149502ff-65b3-45c9-a145-a7b2ac25ba32</td><td style='border: 1px solid #dddddd'>986fd3e779b52d0e23a2bde5b6da996c</td><td style='border: 1px solid #dddddd'>3bf505608b3fce0eaa5c89fc1db08457</td><td style='border: 1px solid #dddddd'></td><td style='border: 1px solid #dddddd'></td></tr><tr><td style='border: 1px solid #dddddd'>2019-01-29 22:00:37.073727+00:00</td><td style='border: 1px solid #dddddd'>0.0</td><td style='border: 1px solid #dddddd'>1</td><td style='border: 1px solid #dddddd'>149502ff-65b3-45c9-a145-a7b2ac25ba32</td><td style='border: 1px solid #dddddd'>986fd3e779b52d0e23a2bde5b6da996c</td><td style='border: 1px solid #dddddd'>3bf505608b3fce0eaa5c89fc1db08457</td><td style='border: 1px solid #dddddd'></td><td style='border: 1px solid #dddddd'></td></tr><tr><td style='border: 1px solid #dddddd'>2019-01-29 22:00:37.073862+00:00</td><td style='border: 1px solid #dddddd'>0.0</td><td style='border: 1px solid #dddddd'>1</td><td style='border: 1px solid #dddddd'>149502ff-65b3-45c9-a145-a7b2ac25ba32</td><td style='border: 1px solid #dddddd'>986fd3e779b52d0e23a2bde5b6da996c</td><td style='border: 1px solid #dddddd'>3bf505608b3fce0eaa5c89fc1db08457</td><td style='border: 1px solid #dddddd'></td><td style='border: 1px solid #dddddd'></td></tr>\n",
       "            </table>\n",
       "        </body>\n",
       "        </HTML>"
      ],
      "text/plain": [
       "<IPython.core.display.HTML object>"
      ]
     },
     "metadata": {},
     "output_type": "display_data"
    }
   ],
   "source": [
    "subscription.performance_monitoring.show_table()"
   ]
  },
  {
   "cell_type": "markdown",
   "metadata": {},
   "source": [
    "### 6.5 Data Mart measurement facts table"
   ]
  },
  {
   "cell_type": "code",
   "execution_count": 91,
   "metadata": {},
   "outputs": [
    {
     "data": {
      "text/plain": [
       "{'deployment_metrics': [{'subscription': {'subscription_id': '986fd3e779b52d0e23a2bde5b6da996c',\n",
       "    'url': '/v1/data_marts/b873054a-9264-48c4-bcfe-c462ac3b8cf8/service_bindings/149502ff-65b3-45c9-a145-a7b2ac25ba32/subscriptions/986fd3e779b52d0e23a2bde5b6da996c'},\n",
       "   'asset': {'name': 'ScottdaAzureML12.2019.1.29.21.29.50.528',\n",
       "    'asset_id': '986fd3e779b52d0e23a2bde5b6da996c',\n",
       "    'url': 'https://ussouthcentral.services.azureml.net/subscriptions/744bca722299451cb682ed6fb75fb671/services/24490adc9dfe4958a6e3480039d0e151/swagger.json',\n",
       "    'asset_type': 'model',\n",
       "    'created_at': '2019-01-29T21:30:38.2982264Z'},\n",
       "   'deployment': {'name': 'ScottdaAzureML12.2019.1.29.21.29.50.528',\n",
       "    'url': 'https://ussouthcentral.services.azureml.net:443/subscriptions/744bca722299451cb682ed6fb75fb671/services/24490adc9dfe4958a6e3480039d0e151/execute?api-version=2.0&format=swagger',\n",
       "    'deployment_type': 'online',\n",
       "    'scoring_endpoint': {'url': 'https://ussouthcentral.services.azureml.net:443/subscriptions/744bca722299451cb682ed6fb75fb671/services/24490adc9dfe4958a6e3480039d0e151/execute?api-version=2.0&format=swagger',\n",
       "     'credentials': {'token': 'Iyi384yfzJHZi0UixZQK7huIeNBHAdD6c4i78yJbesRysEVl33tO+Kn/WLMyGPK2NCEJHJUAoE6OJaRkg6qOGg=='},\n",
       "     'request_headers': {'Content-Type': 'application/json'}},\n",
       "    'deployment_rn': '',\n",
       "    'created_at': '2019-01-29T21:30:38.2982264Z',\n",
       "    'deployment_id': '3bf505608b3fce0eaa5c89fc1db08457'},\n",
       "   'metrics': [{'metric_type': 'performance',\n",
       "     'value': {'records': 1, 'response_time': 0.0},\n",
       "     'issues': 0,\n",
       "     'timestamp': '2019-01-29T22:00:37.073920Z'},\n",
       "    {'metric_type': 'quality',\n",
       "     'value': {'metrics': [{'name': 'weightedTruePositiveRate',\n",
       "        'value': 0.9090909090909091},\n",
       "       {'name': 'accuracy', 'value': 0.9090909090909091},\n",
       "       {'name': 'weightedFMeasure', 'value': 0.8658008658008658},\n",
       "       {'name': 'weightedRecall', 'value': 0.9090909090909091},\n",
       "       {'name': 'weightedFalsePositiveRate', 'value': 0.9090909090909091},\n",
       "       {'name': 'weightedPrecision', 'value': 0.8264462809917354}],\n",
       "      'quality': 0.9090909090909091,\n",
       "      'threshold': 0.7},\n",
       "     'issues': 0,\n",
       "     'timestamp': '2019-01-29T22:01:07.307Z'}]}]}"
      ]
     },
     "execution_count": 91,
     "metadata": {},
     "output_type": "execute_result"
    }
   ],
   "source": [
    "client.data_mart.get_deployment_metrics()"
   ]
  },
  {
   "cell_type": "markdown",
   "metadata": {},
   "source": [
    "---"
   ]
  },
  {
   "cell_type": "markdown",
   "metadata": {},
   "source": [
    "### Authors\n",
    "Lukasz Cmielowski, PhD, is an Automation Architect and Data Scientist at IBM with a track record of developing enterprise-level applications that substantially increases clients' ability to turn data into actionable knowledge."
   ]
  }
 ],
 "metadata": {
  "kernelspec": {
   "display_name": "Python 3",
   "language": "python",
   "name": "python3"
  },
  "language_info": {
   "codemirror_mode": {
    "name": "ipython",
    "version": 3
   },
   "file_extension": ".py",
   "mimetype": "text/x-python",
   "name": "python",
   "nbconvert_exporter": "python",
   "pygments_lexer": "ipython3",
   "version": "3.6.5"
  }
 },
 "nbformat": 4,
 "nbformat_minor": 2
}
